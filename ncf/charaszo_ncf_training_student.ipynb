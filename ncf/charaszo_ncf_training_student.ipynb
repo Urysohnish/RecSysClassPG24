{
 "cells": [
  {
   "cell_type": "code",
   "execution_count": 7,
   "id": "74952bc1-9a7c-414a-b6ae-f7f1b5e1effa",
   "metadata": {},
   "outputs": [],
   "source": [
    "import random\n",
    "from urllib import request\n",
    "import pandas as pd\n",
    "import zipfile\n",
    "import numpy as np\n",
    "import torch\n",
    "import torch.nn as nn\n",
    "from torch.utils.data import Dataset, DataLoader, random_split\n",
    "from tqdm import tqdm\n",
    "\n",
    "from torch.optim import SGD, Adam\n",
    "from torch.nn import MSELoss\n",
    "import matplotlib.pyplot as plt\n"
   ]
  },
  {
   "cell_type": "code",
   "execution_count": 2,
   "id": "1d1e49f1-be2f-4fb1-b044-91b7fab071bc",
   "metadata": {},
   "outputs": [],
   "source": [
    "DATASET_URL = 'http://files.grouplens.org/datasets/movielens/ml-100k.zip'\n",
    "DATASET_ARCHIVE = 'ml-100k.zip'\n",
    "\n",
    "request.urlretrieve(DATASET_URL, DATASET_ARCHIVE)\n",
    "with zipfile.ZipFile(DATASET_ARCHIVE) as archive:\n",
    "    archive.extractall()"
   ]
  },
  {
   "cell_type": "markdown",
   "id": "662ba9e6-54da-4376-b9da-67846defd1c5",
   "metadata": {},
   "source": [
    "### Task 1\n",
    "\n",
    "1. Go over the NCF paper (https://arxiv.org/abs/1708.05031) to understand the architecture of the model\n",
    "2. Implement NCF class. In particular:  \n",
    "    a. implement __init__ to create the model achtecture  \n",
    "    b. initialisation is already implemented for you  \n",
    "    c. implement forward. Forward should take u_id and i_id and return the propability of consumption given u_id and i_id (what is the output layer?)\n",
    "    d. Test your forward by providing some random u_id and i_id"
   ]
  },
  {
   "cell_type": "code",
   "execution_count": 3,
   "id": "eb7af85a-336b-4424-aefd-22814eac48ac",
   "metadata": {},
   "outputs": [],
   "source": [
    "class NeuMF(nn.Module):\n",
    "    def __init__(self, nb_users, nb_items, mf_dim, mlp_layer_sizes, dropout=0):\n",
    "        if mlp_layer_sizes[0] % 2 != 0:\n",
    "            raise RuntimeError('u dummy, mlp_layer_sizes[0] % 2 != 0')\n",
    "        super(NeuMF, self).__init__()\n",
    "        nb_mlp_layers = len(mlp_layer_sizes)\n",
    "        \n",
    "        # Add embedding layers\n",
    "        self.user_embedding_mf = nn.Embedding(nb_users + 1, mf_dim)\n",
    "        self.item_embedding_mf = nn.Embedding(nb_items + 1, mf_dim)\n",
    "        self.user_embedding_mlp = nn.Embedding(nb_users + 1, mlp_layer_sizes[0] // 2)\n",
    "        self.item_embedding_mlp = nn.Embedding(nb_items + 1, mlp_layer_sizes[0] // 2)\n",
    "\n",
    "        # Add MLPs and the final layer\n",
    "        layers = []\n",
    "        input_size = mlp_layer_sizes[0]\n",
    "        for output_size in mlp_layer_sizes[1:]:\n",
    "            layers.append(nn.Linear(input_size, output_size))\n",
    "            layers.append(nn.ReLU())\n",
    "            layers.append(nn.Dropout(p=dropout))\n",
    "            input_size = output_size\n",
    "        self.mlp_layers = nn.Sequential(*layers)\n",
    "        \n",
    "        self.final = nn.Linear(mf_dim + mlp_layer_sizes[-1], 1)\n",
    "        \n",
    "        # Initialize weights\n",
    "        def glorot_uniform(layer):\n",
    "            fan_in, fan_out = layer.in_features, layer.out_features\n",
    "            limit = np.sqrt(6. / (fan_in + fan_out))\n",
    "            layer.weight.data.uniform_(-limit, limit)\n",
    "\n",
    "        def lecunn_uniform(layer):\n",
    "            fan_in, fan_out = layer.in_features, layer.out_features\n",
    "            limit = np.sqrt(3. / fan_in)\n",
    "            layer.weight.data.uniform_(-limit, limit)\n",
    "        \n",
    "        for layer in self.mlp_layers:\n",
    "            if isinstance(layer, nn.Linear):\n",
    "                glorot_uniform(layer)\n",
    "        lecunn_uniform(self.final)\n",
    "\n",
    "    def forward(self, user, item, sigmoid=False):\n",
    "        # Get MF and MLP embeddings\n",
    "        user_embedding_mf = self.user_embedding_mf(user)\n",
    "        item_embedding_mf = self.item_embedding_mf(item)\n",
    "        user_embedding_mlp = self.user_embedding_mlp(user)\n",
    "        item_embedding_mlp = self.item_embedding_mlp(item)\n",
    "        \n",
    "        # MF vector\n",
    "        mf_vector = user_embedding_mf * item_embedding_mf\n",
    "        \n",
    "        # MLP vector\n",
    "        mlp_vector = torch.cat([user_embedding_mlp, item_embedding_mlp], dim=-1)\n",
    "        mlp_vector = self.mlp_layers(mlp_vector)\n",
    "        \n",
    "        # Concatenate MF and MLP vectors\n",
    "        vector = torch.cat([mf_vector, mlp_vector], dim=-1)\n",
    "        \n",
    "        # Final output\n",
    "        output = self.final(vector)\n",
    "        if sigmoid:\n",
    "            output = torch.sigmoid(output)\n",
    "        return output"
   ]
  },
  {
   "cell_type": "markdown",
   "id": "7fb79876-648f-4ca7-8747-30a549a594c8",
   "metadata": {},
   "source": [
    "### Task 2\n",
    "\n",
    "1. Implement ML100kDataset. In particular:  \n",
    "    a. implement all needed functions that overload PyTorch Dataset\n",
    "    b. Implement negaive sampling. This can be approximated negative sampling negative_samples=n means that if user A has m training points (positive) it will have n*m negive points"
   ]
  },
  {
   "cell_type": "code",
   "execution_count": 4,
   "id": "0c6b869a-f634-40fe-b1c8-c1438017a306",
   "metadata": {},
   "outputs": [],
   "source": [
    "class ML100kDataset(Dataset):\n",
    "    def __init__(self, file_name, nb_users, nb_items, negative_samples=1):\n",
    "        ratings_df = pd.read_csv(file_name, header=None, names=['user_id', 'item_id', 'rating', 'timestamp'], delim_whitespace=True)\n",
    "        \n",
    "        # Verify ranges\n",
    "        if ratings_df['user_id'].max() > nb_users or ratings_df['item_id'].max() > nb_items:\n",
    "            raise ValueError(f\"User or item indices exceed the specified number of users/items: max user_id={ratings_df['user_id'].max()}, max item_id={ratings_df['item_id'].max()}\")\n",
    "\n",
    "        max_item = np.max(ratings_df['item_id'])\n",
    "        ratings_df.drop(['rating', 'timestamp'], axis=1, inplace=True)\n",
    "        ratings = torch.from_numpy(ratings_df.values)         \n",
    "        self.negative_samples = negative_samples\n",
    "        self.raw_dataset_length = len(ratings_df.index) \n",
    "        self.length_after_augmentation = self.raw_dataset_length * (self.negative_samples + 1)\n",
    "\n",
    "        # Positive samples\n",
    "        self.users = ratings[:, 0]\n",
    "        self.items = ratings[:, 1]\n",
    "        self.labels = torch.ones(self.raw_dataset_length)\n",
    "\n",
    "        # Negative samples\n",
    "        negative_users = self.users.repeat(negative_samples)\n",
    "        negative_items = torch.randint(1, max_item + 1, (self.raw_dataset_length * negative_samples,))\n",
    "        negative_labels = torch.zeros(self.raw_dataset_length * negative_samples)\n",
    "\n",
    "        # Concatenate positive and negative samples\n",
    "        self.users = torch.cat((self.users, negative_users))\n",
    "        self.items = torch.cat((self.items, negative_items))\n",
    "        self.labels = torch.cat((self.labels, negative_labels))\n",
    "\n",
    "    def __len__(self):\n",
    "        return self.length_after_augmentation\n",
    "  \n",
    "    def __getitem__(self, idx):\n",
    "        return self.users[idx], self.items[idx], self.labels[idx]\n",
    "\n",
    "\n"
   ]
  },
  {
   "cell_type": "markdown",
   "id": "2f688447-fa62-4aa4-a598-e132fd8918e2",
   "metadata": {},
   "source": [
    "### Task 3\n",
    "\n",
    "1. Implement training loop. In particular:  \n",
    "    a. Every epoch you make log average train loss and test/eval loss  \n",
    "    b. use different loss/optimiser/other HP. Use dependency injection to play with them.  \n",
    "    c. Find \"best\" HP during cross-validation.  \n",
    "    d. Check when model overfits with learning curves.  \n",
    "    e. What are the conclusions.  \n",
    "    f*. You can user HR@n from previous excersise to look for overfitting.  \n",
    "    g*. Check the influence of shuffling on your results"
   ]
  },
  {
   "cell_type": "code",
   "execution_count": 5,
   "id": "75100a8a-4c7a-475a-b71f-d0eefba047e9",
   "metadata": {},
   "outputs": [],
   "source": [
    "#YOUR TASK: Implement entire training loop for the model with selection of HPs ~25+ lines of code\n",
    "def train_model(model, criterion, optimizer, train_loader, val_loader, num_epochs=5, shuffle=True):\n",
    "    train_losses = []\n",
    "    val_losses = []\n",
    "\n",
    "    for epoch in range(num_epochs):\n",
    "        model.train()\n",
    "        train_loss = 0\n",
    "        for users, items, labels in tqdm(train_loader, desc=f\"Training Epoch {epoch+1}/{num_epochs}\"):\n",
    "            optimizer.zero_grad()\n",
    "            predictions = model(users, items, sigmoid=True).squeeze()\n",
    "            loss = criterion(predictions, labels.float())\n",
    "            loss.backward()\n",
    "            optimizer.step()\n",
    "            train_loss += loss.item()\n",
    "        \n",
    "        train_loss /= len(train_loader)\n",
    "        train_losses.append(train_loss)\n",
    "\n",
    "        model.eval()\n",
    "        val_loss = 0\n",
    "        with torch.no_grad():\n",
    "            for users, items, labels in tqdm(val_loader, desc=f\"Validation Epoch {epoch+1}/{num_epochs}\"):\n",
    "                predictions = model(users, items, sigmoid=True).squeeze()\n",
    "                loss = criterion(predictions, labels.float())\n",
    "                val_loss += loss.item()\n",
    "        \n",
    "        val_loss /= len(val_loader)\n",
    "        val_losses.append(val_loss)\n",
    "\n",
    "        print(f\"Epoch {epoch+1}/{num_epochs}, Train Loss: {train_loss:.4f}, Val Loss: {val_loss:.4f}\")\n",
    "\n",
    "    return train_losses, val_losses\n",
    "\n",
    "def plot_learning_curves(train_losses, val_losses):\n",
    "    plt.figure(figsize=(10, 5))\n",
    "    plt.plot(train_losses, label='Train Loss')\n",
    "    plt.plot(val_losses, label='Validation Loss')\n",
    "    plt.xlabel('Epochs')\n",
    "    plt.ylabel('Loss')\n",
    "    plt.legend()\n",
    "    plt.show()"
   ]
  },
  {
   "cell_type": "code",
   "execution_count": 8,
   "id": "f1af8f0b-2bd8-4616-891d-2a4bc904fa51",
   "metadata": {},
   "outputs": [
    {
     "name": "stderr",
     "output_type": "stream",
     "text": [
      "Training Epoch 1/10: 100%|███████████████████████████████████████████████████████| 12500/12500 [00:54<00:00, 229.53it/s]\n",
      "Validation Epoch 1/10: 100%|███████████████████████████████████████████████████████| 3125/3125 [00:03<00:00, 816.47it/s]\n"
     ]
    },
    {
     "name": "stdout",
     "output_type": "stream",
     "text": [
      "Epoch 1/10, Train Loss: 0.4830, Val Loss: 0.4271\n"
     ]
    },
    {
     "name": "stderr",
     "output_type": "stream",
     "text": [
      "Training Epoch 2/10: 100%|███████████████████████████████████████████████████████| 12500/12500 [00:55<00:00, 225.23it/s]\n",
      "Validation Epoch 2/10: 100%|███████████████████████████████████████████████████████| 3125/3125 [00:03<00:00, 834.82it/s]\n"
     ]
    },
    {
     "name": "stdout",
     "output_type": "stream",
     "text": [
      "Epoch 2/10, Train Loss: 0.4275, Val Loss: 0.4088\n"
     ]
    },
    {
     "name": "stderr",
     "output_type": "stream",
     "text": [
      "Training Epoch 3/10: 100%|███████████████████████████████████████████████████████| 12500/12500 [01:01<00:00, 203.58it/s]\n",
      "Validation Epoch 3/10: 100%|███████████████████████████████████████████████████████| 3125/3125 [00:03<00:00, 854.91it/s]\n"
     ]
    },
    {
     "name": "stdout",
     "output_type": "stream",
     "text": [
      "Epoch 3/10, Train Loss: 0.4172, Val Loss: 0.4049\n"
     ]
    },
    {
     "name": "stderr",
     "output_type": "stream",
     "text": [
      "Training Epoch 4/10: 100%|███████████████████████████████████████████████████████| 12500/12500 [00:57<00:00, 217.41it/s]\n",
      "Validation Epoch 4/10: 100%|███████████████████████████████████████████████████████| 3125/3125 [00:03<00:00, 967.14it/s]\n"
     ]
    },
    {
     "name": "stdout",
     "output_type": "stream",
     "text": [
      "Epoch 4/10, Train Loss: 0.4121, Val Loss: 0.4044\n"
     ]
    },
    {
     "name": "stderr",
     "output_type": "stream",
     "text": [
      "Training Epoch 5/10: 100%|███████████████████████████████████████████████████████| 12500/12500 [01:06<00:00, 187.16it/s]\n",
      "Validation Epoch 5/10: 100%|███████████████████████████████████████████████████████| 3125/3125 [00:03<00:00, 954.37it/s]\n"
     ]
    },
    {
     "name": "stdout",
     "output_type": "stream",
     "text": [
      "Epoch 5/10, Train Loss: 0.4100, Val Loss: 0.4060\n"
     ]
    },
    {
     "name": "stderr",
     "output_type": "stream",
     "text": [
      "Training Epoch 6/10: 100%|███████████████████████████████████████████████████████| 12500/12500 [01:01<00:00, 204.61it/s]\n",
      "Validation Epoch 6/10: 100%|███████████████████████████████████████████████████████| 3125/3125 [00:04<00:00, 720.57it/s]\n"
     ]
    },
    {
     "name": "stdout",
     "output_type": "stream",
     "text": [
      "Epoch 6/10, Train Loss: 0.4056, Val Loss: 0.4075\n"
     ]
    },
    {
     "name": "stderr",
     "output_type": "stream",
     "text": [
      "Training Epoch 7/10: 100%|███████████████████████████████████████████████████████| 12500/12500 [01:07<00:00, 183.83it/s]\n",
      "Validation Epoch 7/10: 100%|███████████████████████████████████████████████████████| 3125/3125 [00:03<00:00, 829.58it/s]\n"
     ]
    },
    {
     "name": "stdout",
     "output_type": "stream",
     "text": [
      "Epoch 7/10, Train Loss: 0.4002, Val Loss: 0.4079\n"
     ]
    },
    {
     "name": "stderr",
     "output_type": "stream",
     "text": [
      "Training Epoch 8/10: 100%|███████████████████████████████████████████████████████| 12500/12500 [00:59<00:00, 210.35it/s]\n",
      "Validation Epoch 8/10: 100%|███████████████████████████████████████████████████████| 3125/3125 [00:03<00:00, 977.03it/s]\n"
     ]
    },
    {
     "name": "stdout",
     "output_type": "stream",
     "text": [
      "Epoch 8/10, Train Loss: 0.3919, Val Loss: 0.4066\n"
     ]
    },
    {
     "name": "stderr",
     "output_type": "stream",
     "text": [
      "Training Epoch 9/10: 100%|███████████████████████████████████████████████████████| 12500/12500 [00:59<00:00, 211.41it/s]\n",
      "Validation Epoch 9/10: 100%|███████████████████████████████████████████████████████| 3125/3125 [00:03<00:00, 793.63it/s]\n"
     ]
    },
    {
     "name": "stdout",
     "output_type": "stream",
     "text": [
      "Epoch 9/10, Train Loss: 0.3823, Val Loss: 0.4020\n"
     ]
    },
    {
     "name": "stderr",
     "output_type": "stream",
     "text": [
      "Training Epoch 10/10: 100%|██████████████████████████████████████████████████████| 12500/12500 [01:00<00:00, 205.02it/s]\n",
      "Validation Epoch 10/10: 100%|██████████████████████████████████████████████████████| 3125/3125 [00:03<00:00, 882.78it/s]"
     ]
    },
    {
     "name": "stdout",
     "output_type": "stream",
     "text": [
      "Epoch 10/10, Train Loss: 0.3726, Val Loss: 0.3988\n"
     ]
    },
    {
     "name": "stderr",
     "output_type": "stream",
     "text": [
      "\n"
     ]
    }
   ],
   "source": [
    "# Hyperparameters\n",
    "nb_users, nb_items = 943, 1682  # Number of users and items in ML-100k dataset\n",
    "mf_dim = 10\n",
    "mlp_layer_sizes = [64, 32, 16, 8]\n",
    "dropout = 0.5\n",
    "batch_size = 32\n",
    "num_epochs = 10\n",
    "learning_rate = 0.001\n",
    "negative_samples = 4\n",
    "\n",
    "# Initialize dataset\n",
    "dataset = ML100kDataset('ml-100k/u.data', nb_users=nb_users, nb_items=nb_items, negative_samples=negative_samples)\n",
    "\n",
    "# Split dataset into training and validation\n",
    "train_size = int(0.8 * len(dataset))\n",
    "val_size = len(dataset) - train_size\n",
    "train_dataset, val_dataset = random_split(dataset, [train_size, val_size])\n",
    "\n",
    "# Create data loaders\n",
    "train_loader = DataLoader(train_dataset, batch_size=batch_size, shuffle=True)\n",
    "val_loader = DataLoader(val_dataset, batch_size=batch_size, shuffle=False)\n",
    "\n",
    "# Initialize model\n",
    "model = NeuMF(nb_users, nb_items, mf_dim, mlp_layer_sizes, dropout)\n",
    "\n",
    "# Define loss and optimizer\n",
    "criterion = nn.BCELoss()\n",
    "optimizer = Adam(model.parameters(), lr=learning_rate)\n",
    "\n",
    "# Train the model\n",
    "train_losses, val_losses = train_model(model, criterion, optimizer, train_loader, val_loader, num_epochs=num_epochs)\n",
    "\n"
   ]
  },
  {
   "cell_type": "markdown",
   "id": "98a39045-18d7-470d-8bae-99105a27c5d7",
   "metadata": {},
   "source": [
    "### Plot results"
   ]
  },
  {
   "cell_type": "code",
   "execution_count": 9,
   "id": "fb7e927a-44e4-4504-b24f-dbf1cc501ecb",
   "metadata": {},
   "outputs": [
    {
     "data": {
      "image/png": "[encoded data removed]",
      "text/plain": [
       "<Figure size 1000x500 with 1 Axes>"
      ]
     },
     "metadata": {},
     "output_type": "display_data"
    }
   ],
   "source": [
    "# Plot learning curves\n",
    "plot_learning_curves(train_losses, val_losses)\n"
   ]
  },
  {
   "cell_type": "markdown",
   "id": "bc45e745-ea31-4699-9db8-627819579d09",
   "metadata": {},
   "source": [
    "### HPs optimization"
   ]
  },
  {
   "cell_type": "code",
   "execution_count": 17,
   "id": "3c25c017-ad34-4a55-aca6-cfb63f648ae8",
   "metadata": {},
   "outputs": [],
   "source": [
    "def compute_hr_at_n(model, test_loader, top_n=10):\n",
    "    hits = 0\n",
    "    total = 0\n",
    "    with torch.no_grad():\n",
    "        for users, items, labels in test_loader:\n",
    "            predictions = model(users, items, sigmoid=True)\n",
    "            _, indices = torch.topk(predictions, top_n, dim=1)\n",
    "            for user, item, label, top_items in zip(users, items, labels, indices):\n",
    "                if label == 1 and item in top_items:\n",
    "                    hits += 1\n",
    "                total += 1\n",
    "    return hits / total\n"
   ]
  },
  {
   "cell_type": "code",
   "execution_count": 18,
   "id": "fe17dc61-f216-4d4f-8d0c-e2380e39d78b",
   "metadata": {},
   "outputs": [],
   "source": [
    "def train_model_with_hr(model, criterion, optimizer, train_loader, val_loader, test_loader, num_epochs=5, shuffle=True, top_n=10):\n",
    "    train_losses = []\n",
    "    val_losses = []\n",
    "    hr_values = []\n",
    "\n",
    "    for epoch in range(num_epochs):\n",
    "        model.train()\n",
    "        train_loss = 0\n",
    "        for users, items, labels in tqdm(train_loader, desc=f\"Training Epoch {epoch+1}/{num_epochs}\"):\n",
    "            optimizer.zero_grad()\n",
    "            predictions = model(users, items, sigmoid=True).squeeze()\n",
    "            loss = criterion(predictions, labels.float())\n",
    "            loss.backward()\n",
    "            optimizer.step()\n",
    "            train_loss += loss.item()\n",
    "        \n",
    "        train_loss /= len(train_loader)\n",
    "        train_losses.append(train_loss)\n",
    "\n",
    "        model.eval()\n",
    "        val_loss = 0\n",
    "        with torch.no_grad():\n",
    "            for users, items, labels in tqdm(val_loader, desc=f\"Validation Epoch {epoch+1}/{num_epochs}\"):\n",
    "                predictions = model(users, items, sigmoid=True).squeeze()\n",
    "                loss = criterion(predictions, labels.float())\n",
    "                val_loss += loss.item()\n",
    "        \n",
    "        val_loss /= len(val_loader)\n",
    "        val_losses.append(val_loss)\n",
    "\n",
    "        hr_at_n = compute_hr_at_n(model, test_loader, top_n=top_n)\n",
    "        hr_values.append(hr_at_n)\n",
    "\n",
    "        print(f\"Epoch {epoch+1}/{num_epochs}, Train Loss: {train_loss:.4f}, Val Loss: {val_loss:.4f}, HR@{top_n}: {hr_at_n:.4f}\")\n",
    "\n",
    "    return train_losses, val_losses, hr_values\n"
   ]
  },
  {
   "cell_type": "code",
   "execution_count": 19,
   "id": "54092fe7-e809-4d06-b97f-8fc691652ff4",
   "metadata": {},
   "outputs": [],
   "source": [
    "import torch.optim as optim\n"
   ]
  },
  {
   "cell_type": "code",
   "execution_count": 23,
   "id": "495b5f4c-1254-4b0f-b2ea-dd482224f992",
   "metadata": {},
   "outputs": [],
   "source": [
    "def train_model(model, criterion, optimizer, train_loader, val_loader, num_epochs=5, shuffle=True):\n",
    "    train_losses = []\n",
    "    val_losses = []\n",
    "\n",
    "    for epoch in range(num_epochs):\n",
    "        model.train()\n",
    "        epoch_train_loss = 0.0\n",
    "        for batch_idx, batch_data in enumerate(train_loader):\n",
    "            optimizer.zero_grad()\n",
    "            users, items, targets = batch_data\n",
    "            predictions = model(users, items, sigmoid=True).squeeze()\n",
    "            loss = criterion(predictions, targets.float())\n",
    "            loss.backward()\n",
    "            optimizer.step()\n",
    "            epoch_train_loss += loss.item()\n",
    "        \n",
    "        epoch_train_loss /= len(train_loader)\n",
    "        train_losses.append(epoch_train_loss)\n",
    "\n",
    "        model.eval()\n",
    "        epoch_val_loss = 0.0\n",
    "        with torch.no_grad():\n",
    "            for batch_data in val_loader:\n",
    "                users, items, targets = batch_data\n",
    "                predictions = model(users, items, sigmoid=True).squeeze()\n",
    "                loss = criterion(predictions, targets.float())\n",
    "                epoch_val_loss += loss.item()\n",
    "        \n",
    "        epoch_val_loss /= len(val_loader)\n",
    "        val_losses.append(epoch_val_loss)\n",
    "\n",
    "        print(f\"Epoch {epoch+1}/{num_epochs}, Train Loss: {epoch_train_loss:.6f}, Val Loss: {epoch_val_loss:.6f}\")\n",
    "\n",
    "    return train_losses, val_losses\n"
   ]
  },
  {
   "cell_type": "code",
   "execution_count": 24,
   "id": "912a1c1d-69c6-4ceb-a971-52f29aaaf847",
   "metadata": {},
   "outputs": [
    {
     "name": "stdout",
     "output_type": "stream",
     "text": [
      "Epoch 1/10, Train Loss: 0.479977, Val Loss: 0.417761\n",
      "Epoch 2/10, Train Loss: 0.422857, Val Loss: 0.408854\n",
      "Epoch 3/10, Train Loss: 0.413656, Val Loss: 0.402174\n",
      "Epoch 4/10, Train Loss: 0.411165, Val Loss: 0.401090\n",
      "Epoch 5/10, Train Loss: 0.409778, Val Loss: 0.402378\n",
      "Epoch 6/10, Train Loss: 0.407228, Val Loss: 0.402139\n",
      "Epoch 7/10, Train Loss: 0.403627, Val Loss: 0.403585\n",
      "Epoch 8/10, Train Loss: 0.397565, Val Loss: 0.403571\n",
      "Epoch 9/10, Train Loss: 0.390369, Val Loss: 0.402388\n",
      "Epoch 10/10, Train Loss: 0.380191, Val Loss: 0.399867\n",
      "Epoch 1/10, Train Loss: 0.486641, Val Loss: 0.418912\n",
      "Epoch 2/10, Train Loss: 0.424148, Val Loss: 0.405655\n",
      "Epoch 3/10, Train Loss: 0.415501, Val Loss: 0.402006\n",
      "Epoch 4/10, Train Loss: 0.413481, Val Loss: 0.399891\n",
      "Epoch 5/10, Train Loss: 0.410490, Val Loss: 0.401764\n",
      "Epoch 6/10, Train Loss: 0.407534, Val Loss: 0.403038\n",
      "Epoch 7/10, Train Loss: 0.404549, Val Loss: 0.402842\n",
      "Epoch 8/10, Train Loss: 0.397619, Val Loss: 0.403362\n",
      "Epoch 9/10, Train Loss: 0.390655, Val Loss: 0.401419\n",
      "Epoch 10/10, Train Loss: 0.380651, Val Loss: 0.395886\n",
      "Epoch 1/10, Train Loss: 0.489923, Val Loss: 0.430765\n",
      "Epoch 2/10, Train Loss: 0.428832, Val Loss: 0.410178\n",
      "Epoch 3/10, Train Loss: 0.416480, Val Loss: 0.406433\n",
      "Epoch 4/10, Train Loss: 0.412396, Val Loss: 0.403160\n",
      "Epoch 5/10, Train Loss: 0.409296, Val Loss: 0.404891\n",
      "Epoch 6/10, Train Loss: 0.405451, Val Loss: 0.405462\n",
      "Epoch 7/10, Train Loss: 0.397523, Val Loss: 0.405147\n",
      "Epoch 8/10, Train Loss: 0.388811, Val Loss: 0.402467\n",
      "Epoch 9/10, Train Loss: 0.377109, Val Loss: 0.396058\n",
      "Epoch 10/10, Train Loss: 0.366016, Val Loss: 0.396625\n",
      "Epoch 1/10, Train Loss: 0.484513, Val Loss: 0.422274\n",
      "Epoch 2/10, Train Loss: 0.424539, Val Loss: 0.406565\n",
      "Epoch 3/10, Train Loss: 0.414368, Val Loss: 0.405222\n",
      "Epoch 4/10, Train Loss: 0.410841, Val Loss: 0.403908\n",
      "Epoch 5/10, Train Loss: 0.408285, Val Loss: 0.405952\n",
      "Epoch 6/10, Train Loss: 0.403385, Val Loss: 0.406081\n",
      "Epoch 7/10, Train Loss: 0.397434, Val Loss: 0.406366\n",
      "Epoch 8/10, Train Loss: 0.388534, Val Loss: 0.403314\n",
      "Epoch 9/10, Train Loss: 0.377551, Val Loss: 0.398791\n",
      "Epoch 10/10, Train Loss: 0.365962, Val Loss: 0.392790\n",
      "Epoch 1/10, Train Loss: 0.470410, Val Loss: 0.431016\n",
      "Epoch 2/10, Train Loss: 0.467966, Val Loss: 0.457595\n",
      "Epoch 3/10, Train Loss: 0.422238, Val Loss: 0.398942\n",
      "Epoch 4/10, Train Loss: 0.389773, Val Loss: 0.388825\n",
      "Epoch 5/10, Train Loss: 0.373909, Val Loss: 0.378555\n",
      "Epoch 6/10, Train Loss: 0.364627, Val Loss: 0.376836\n",
      "Epoch 7/10, Train Loss: 0.353806, Val Loss: 0.366159\n",
      "Epoch 8/10, Train Loss: 0.344517, Val Loss: 0.376130\n",
      "Epoch 9/10, Train Loss: 0.339161, Val Loss: 0.361762\n",
      "Epoch 10/10, Train Loss: 0.335232, Val Loss: 0.361016\n",
      "Epoch 1/10, Train Loss: 0.473158, Val Loss: 0.434087\n",
      "Epoch 2/10, Train Loss: 0.467712, Val Loss: 0.447210\n",
      "Epoch 3/10, Train Loss: 0.433373, Val Loss: 0.399781\n",
      "Epoch 4/10, Train Loss: 0.390013, Val Loss: 0.389497\n",
      "Epoch 5/10, Train Loss: 0.366403, Val Loss: 0.370181\n",
      "Epoch 6/10, Train Loss: 0.351731, Val Loss: 0.364144\n",
      "Epoch 7/10, Train Loss: 0.344248, Val Loss: 0.361758\n",
      "Epoch 8/10, Train Loss: 0.339210, Val Loss: 0.375627\n",
      "Epoch 9/10, Train Loss: 0.336322, Val Loss: 0.369784\n",
      "Epoch 10/10, Train Loss: 0.334052, Val Loss: 0.373604\n",
      "Epoch 1/10, Train Loss: 0.469598, Val Loss: 0.448554\n",
      "Epoch 2/10, Train Loss: 0.469714, Val Loss: 0.430579\n",
      "Epoch 3/10, Train Loss: 0.393939, Val Loss: 0.387478\n",
      "Epoch 4/10, Train Loss: 0.374752, Val Loss: 0.380189\n",
      "Epoch 5/10, Train Loss: 0.369412, Val Loss: 0.373950\n",
      "Epoch 6/10, Train Loss: 0.358696, Val Loss: 0.368656\n",
      "Epoch 7/10, Train Loss: 0.349983, Val Loss: 0.369437\n",
      "Epoch 8/10, Train Loss: 0.343774, Val Loss: 0.365310\n",
      "Epoch 9/10, Train Loss: 0.338178, Val Loss: 0.375381\n",
      "Epoch 10/10, Train Loss: 0.334923, Val Loss: 0.372249\n",
      "Epoch 1/10, Train Loss: 0.471043, Val Loss: 0.432046\n",
      "Epoch 2/10, Train Loss: 0.452819, Val Loss: 0.422521\n",
      "Epoch 3/10, Train Loss: 0.399243, Val Loss: 0.400390\n",
      "Epoch 4/10, Train Loss: 0.387895, Val Loss: 0.385389\n",
      "Epoch 5/10, Train Loss: 0.366585, Val Loss: 0.372458\n",
      "Epoch 6/10, Train Loss: 0.355537, Val Loss: 0.373730\n",
      "Epoch 7/10, Train Loss: 0.350548, Val Loss: 0.364090\n",
      "Epoch 8/10, Train Loss: 0.346015, Val Loss: 0.365518\n",
      "Epoch 9/10, Train Loss: 0.341044, Val Loss: 0.365128\n",
      "Epoch 10/10, Train Loss: 0.336993, Val Loss: 0.365448\n",
      "Epoch 1/10, Train Loss: 0.626915, Val Loss: 0.635723\n",
      "Epoch 2/10, Train Loss: 0.626296, Val Loss: 0.593627\n",
      "Epoch 3/10, Train Loss: 0.628057, Val Loss: 0.652016\n",
      "Epoch 4/10, Train Loss: 0.625429, Val Loss: 0.552026\n",
      "Epoch 5/10, Train Loss: 0.625460, Val Loss: 0.611933\n",
      "Epoch 6/10, Train Loss: 0.627003, Val Loss: 0.682224\n",
      "Epoch 7/10, Train Loss: 0.625016, Val Loss: 0.596461\n",
      "Epoch 8/10, Train Loss: 0.625607, Val Loss: 0.660398\n",
      "Epoch 9/10, Train Loss: 0.626040, Val Loss: 0.660249\n",
      "Epoch 10/10, Train Loss: 0.625349, Val Loss: 0.609649\n",
      "Epoch 1/10, Train Loss: 0.639419, Val Loss: 0.671391\n",
      "Epoch 2/10, Train Loss: 0.626540, Val Loss: 0.579664\n",
      "Epoch 3/10, Train Loss: 3.302394, Val Loss: 0.668576\n",
      "Epoch 4/10, Train Loss: 0.625988, Val Loss: 0.628060\n",
      "Epoch 5/10, Train Loss: 0.626312, Val Loss: 0.638023\n",
      "Epoch 6/10, Train Loss: 0.626284, Val Loss: 0.680268\n",
      "Epoch 7/10, Train Loss: 0.627190, Val Loss: 0.579811\n",
      "Epoch 8/10, Train Loss: 0.625064, Val Loss: 0.638645\n",
      "Epoch 9/10, Train Loss: 0.626632, Val Loss: 0.605247\n",
      "Epoch 10/10, Train Loss: 0.623932, Val Loss: 0.595161\n",
      "Epoch 1/10, Train Loss: 0.624595, Val Loss: 0.683934\n",
      "Epoch 2/10, Train Loss: 0.713786, Val Loss: 0.620981\n",
      "Epoch 3/10, Train Loss: 0.625319, Val Loss: 0.670522\n",
      "Epoch 4/10, Train Loss: 0.625484, Val Loss: 0.601182\n",
      "Epoch 5/10, Train Loss: 0.628878, Val Loss: 0.599913\n",
      "Epoch 6/10, Train Loss: 0.626144, Val Loss: 0.637448\n",
      "Epoch 7/10, Train Loss: 0.625910, Val Loss: 0.581010\n",
      "Epoch 8/10, Train Loss: 0.624928, Val Loss: 0.678335\n",
      "Epoch 9/10, Train Loss: 0.625160, Val Loss: 0.600340\n",
      "Epoch 10/10, Train Loss: 0.627451, Val Loss: 0.683068\n",
      "Epoch 1/10, Train Loss: 0.623837, Val Loss: 0.613852\n",
      "Epoch 2/10, Train Loss: 0.626898, Val Loss: 0.607394\n",
      "Epoch 3/10, Train Loss: 0.625605, Val Loss: 0.631339\n",
      "Epoch 4/10, Train Loss: 0.625280, Val Loss: 0.547914\n",
      "Epoch 5/10, Train Loss: 0.627791, Val Loss: 0.536620\n",
      "Epoch 6/10, Train Loss: 0.626881, Val Loss: 0.567112\n",
      "Epoch 7/10, Train Loss: 0.625557, Val Loss: 0.646445\n",
      "Epoch 8/10, Train Loss: 0.625557, Val Loss: 0.771812\n",
      "Epoch 9/10, Train Loss: 0.625759, Val Loss: 0.576099\n",
      "Epoch 10/10, Train Loss: 0.628251, Val Loss: 0.679159\n",
      "Best Hyperparameters: (0.01, 0.9, 32)\n",
      "Epoch 1/10, Train Loss: 0.472927, Val Loss: 0.429055\n",
      "Epoch 2/10, Train Loss: 0.430878, Val Loss: 0.403723\n",
      "Epoch 3/10, Train Loss: 0.392444, Val Loss: 0.398568\n",
      "Epoch 4/10, Train Loss: 0.379528, Val Loss: 0.376887\n",
      "Epoch 5/10, Train Loss: 0.357877, Val Loss: 0.368145\n",
      "Epoch 6/10, Train Loss: 0.348396, Val Loss: 0.365972\n",
      "Epoch 7/10, Train Loss: 0.342898, Val Loss: 0.360193\n",
      "Epoch 8/10, Train Loss: 0.338823, Val Loss: 0.363860\n",
      "Epoch 9/10, Train Loss: 0.336138, Val Loss: 0.360056\n",
      "Epoch 10/10, Train Loss: 0.334126, Val Loss: 0.366497\n"
     ]
    },
    {
     "data": {
      "image/png": "[encoded data removed]",
      "text/plain": [
       "<Figure size 1000x500 with 1 Axes>"
      ]
     },
     "metadata": {},
     "output_type": "display_data"
    },
    {
     "ename": "NameError",
     "evalue": "name 'test_loader' is not defined",
     "output_type": "error",
     "traceback": [
      "\u001b[0;31m---------------------------------------------------------------------------\u001b[0m",
      "\u001b[0;31mNameError\u001b[0m                                 Traceback (most recent call last)",
      "Cell \u001b[0;32mIn[24], line 44\u001b[0m\n\u001b[1;32m     41\u001b[0m plot_learning_curves(train_losses, val_losses)\n\u001b[1;32m     43\u001b[0m \u001b[38;5;66;03m# Plot HR@n values\u001b[39;00m\n\u001b[0;32m---> 44\u001b[0m hr_values \u001b[38;5;241m=\u001b[39m compute_hr_at_n(model, \u001b[43mtest_loader\u001b[49m, top_n\u001b[38;5;241m=\u001b[39m\u001b[38;5;241m10\u001b[39m)  \u001b[38;5;66;03m# Assuming you have this function\u001b[39;00m\n\u001b[1;32m     45\u001b[0m plot_hr_at_n(hr_values, top_n\u001b[38;5;241m=\u001b[39m\u001b[38;5;241m10\u001b[39m)\n",
      "\u001b[0;31mNameError\u001b[0m: name 'test_loader' is not defined"
     ]
    }
   ],
   "source": [
    "import itertools\n",
    "\n",
    "# Define hyperparameters to search\n",
    "learning_rates = [0.001, 0.01, 0.1]\n",
    "momentums = [0.9, 0.95]\n",
    "batch_sizes = [32, 64]\n",
    "\n",
    "# Create a list of all combinations of hyperparameters\n",
    "hyperparameter_combinations = list(itertools.product(learning_rates, momentums, batch_sizes))\n",
    "\n",
    "# Perform cross-validation to find the best hyperparameters\n",
    "best_hyperparameters = None\n",
    "best_val_loss = float('inf')\n",
    "\n",
    "for lr, momentum, batch_size in hyperparameter_combinations:\n",
    "    # Initialize model\n",
    "    model = NeuMF(nb_users, nb_items, mf_dim, mlp_layer_sizes, dropout)\n",
    "    \n",
    "    # Define loss and optimizer\n",
    "    criterion = nn.BCELoss()\n",
    "    optimizer = Adam(model.parameters(), lr=lr)\n",
    "    \n",
    "    # Train the model\n",
    "    train_losses, val_losses = train_model(model, criterion, optimizer, train_loader, val_loader, num_epochs=num_epochs)\n",
    "    \n",
    "    # Check if this combination has the best validation loss\n",
    "    if val_losses[-1] < best_val_loss:\n",
    "        best_val_loss = val_losses[-1]\n",
    "        best_hyperparameters = (lr, momentum, batch_size)\n",
    "\n",
    "print(\"Best Hyperparameters:\", best_hyperparameters)\n",
    "\n",
    "# Now train the model with the best hyperparameters\n",
    "lr, momentum, batch_size = best_hyperparameters\n",
    "model = NeuMF(nb_users, nb_items, mf_dim, mlp_layer_sizes, dropout)\n",
    "criterion = nn.BCELoss()\n",
    "optimizer = Adam(model.parameters(), lr=lr)\n",
    "train_losses, val_losses = train_model(model, criterion, optimizer, train_loader, val_loader, num_epochs=num_epochs)\n",
    "\n",
    "# Plot learning curves\n",
    "plot_learning_curves(train_losses, val_losses)\n",
    "\n",
    "# Plot HR@n values\n",
    "hr_values = compute_hr_at_n(model, test_loader, top_n=10)  # Assuming you have this function\n",
    "plot_hr_at_n(hr_values, top_n=10)\n"
   ]
  },
  {
   "cell_type": "code",
   "execution_count": null,
   "id": "e4d2ef47-3290-4e67-98ce-71ca6e7d8807",
   "metadata": {},
   "outputs": [],
   "source": []
  }
 ],
 "metadata": {
  "kernelspec": {
   "display_name": "Python 3 (ipykernel)",
   "language": "python",
   "name": "python3"
  },
  "language_info": {
   "codemirror_mode": {
    "name": "ipython",
    "version": 3
   },
   "file_extension": ".py",
   "mimetype": "text/x-python",
   "name": "python",
   "nbconvert_exporter": "python",
   "pygments_lexer": "ipython3",
   "version": "3.8.10"
  }
 },
 "nbformat": 4,
 "nbformat_minor": 5
}
